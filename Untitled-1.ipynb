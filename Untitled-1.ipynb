{
 "cells": [
  {
   "cell_type": "code",
   "execution_count": 4,
   "id": "26d93d67",
   "metadata": {},
   "outputs": [
    {
     "data": {
      "text/plain": [
       "'2.3.3'"
      ]
     },
     "execution_count": 4,
     "metadata": {},
     "output_type": "execute_result"
    }
   ],
   "source": [
    "import pandas as pd\n",
    "pd.__version__"
   ]
  },
  {
   "cell_type": "code",
   "execution_count": 7,
   "id": "f2087045",
   "metadata": {},
   "outputs": [
    {
     "name": "stdout",
     "output_type": "stream",
     "text": [
      "Number of records: 9704\n"
     ]
    }
   ],
   "source": [
    "url= \"https://raw.githubusercontent.com/alexeygrigorev/datasets/master/car_fuel_efficiency.csv\"\n",
    "df = pd.read_csv(url)\n",
    "records = len(df)\n",
    "print(f\"Number of records: {records}\")"
   ]
  },
  {
   "cell_type": "code",
   "execution_count": 8,
   "id": "d066de40",
   "metadata": {},
   "outputs": [
    {
     "name": "stdout",
     "output_type": "stream",
     "text": [
      "Index(['engine_displacement', 'num_cylinders', 'horsepower', 'vehicle_weight',\n",
      "       'acceleration', 'model_year', 'origin', 'fuel_type', 'drivetrain',\n",
      "       'num_doors', 'fuel_efficiency_mpg'],\n",
      "      dtype='object')\n",
      "Number of unique fuel types: 2\n",
      "Fuel types: ['Gasoline' 'Diesel']\n"
     ]
    }
   ],
   "source": [
    "print(df.columns)\n",
    "fuel_types = df[\"fuel_type\"].unique()\n",
    "No_fuel_types= len(fuel_types)\n",
    "print(f\"Number of unique fuel types: {No_fuel_types}\")\n",
    "print(f\"Fuel types: {fuel_types}\")\n"
   ]
  },
  {
   "cell_type": "code",
   "execution_count": 10,
   "id": "84040266",
   "metadata": {},
   "outputs": [
    {
     "name": "stdout",
     "output_type": "stream",
     "text": [
      "Number of columns with missing values: 4\n"
     ]
    }
   ],
   "source": [
    "num_missing_values =(df.isna().sum() >0 ).sum()\n",
    "print(f\"Number of columns with missing values: {num_missing_values}\")"
   ]
  },
  {
   "cell_type": "code",
   "execution_count": 11,
   "id": "1b25afe4",
   "metadata": {},
   "outputs": [
    {
     "name": "stdout",
     "output_type": "stream",
     "text": [
      "Maximum fuel efficiency (mpg) of cars from asia: 23.759122836520497\n",
      "      engine_displacement  num_cylinders  horsepower  vehicle_weight  \\\n",
      "9387                  330            3.0       136.0     1223.298226   \n",
      "\n",
      "      acceleration  model_year origin fuel_type         drivetrain  num_doors  \\\n",
      "9387           NaN        2001   Asia  Gasoline  Front-wheel drive        1.0   \n",
      "\n",
      "      fuel_efficiency_mpg  \n",
      "9387            23.759123  \n"
     ]
    }
   ],
   "source": [
    "asia_cars =df[df[\"origin\"]== \"Asia\"]\n",
    "max_fuel_efficiency_asia =asia_cars[\"fuel_efficiency_mpg\"].max()\n",
    "print(f\"Maximum fuel efficiency (mpg) of cars from asia: {max_fuel_efficiency_asia}\")\n",
    "print(asia_cars[asia_cars[\"fuel_efficiency_mpg\"]== max_fuel_efficiency_asia])\n"
   ]
  },
  {
   "cell_type": "code",
   "execution_count": 12,
   "id": "7caa714c",
   "metadata": {},
   "outputs": [
    {
     "name": "stdout",
     "output_type": "stream",
     "text": [
      "Median horsepower value: 149.0\n"
     ]
    }
   ],
   "source": [
    "median_before= df[\"horsepower\"].median()\n",
    "print(f\"Median horsepower value: {median_before}\")"
   ]
  },
  {
   "cell_type": "code",
   "execution_count": 13,
   "id": "13634701",
   "metadata": {},
   "outputs": [
    {
     "name": "stdout",
     "output_type": "stream",
     "text": [
      "Most frequent horsepower value:152.0\n"
     ]
    }
   ],
   "source": [
    "frequent_value = df[\"horsepower\"].mode()[0]\n",
    "print(f\"Most frequent horsepower value:{frequent_value}\")"
   ]
  },
  {
   "cell_type": "code",
   "execution_count": 14,
   "id": "28d1d9f2",
   "metadata": {},
   "outputs": [],
   "source": [
    "df[\"horsepower\"]= df[\"horsepower\"].fillna(frequent_value)"
   ]
  },
  {
   "cell_type": "code",
   "execution_count": 15,
   "id": "0495d587",
   "metadata": {},
   "outputs": [
    {
     "name": "stdout",
     "output_type": "stream",
     "text": [
      "Median horsepower value after filling missing values: 152.0\n"
     ]
    }
   ],
   "source": [
    "median_after = df[\"horsepower\"].median()\n",
    "print(f\"Median horsepower value after filling missing values: {median_after}\")"
   ]
  },
  {
   "cell_type": "code",
   "execution_count": 16,
   "id": "b3e9b551",
   "metadata": {},
   "outputs": [
    {
     "name": "stdout",
     "output_type": "stream",
     "text": [
      "Yes, it increased\n"
     ]
    }
   ],
   "source": [
    "if median_after > median_before:\n",
    "    print(\"Yes, it increased\")\n",
    "elif median_after < median_before:\n",
    "    print(\"No, decreased\")\n",
    "else:\n",
    "    print(\"No, it stayed the same\")"
   ]
  },
  {
   "cell_type": "code",
   "execution_count": 17,
   "id": "b6ef15ab",
   "metadata": {},
   "outputs": [
    {
     "name": "stdout",
     "output_type": "stream",
     "text": [
      "The first seven value:    vehicle_weight  model_year\n",
      "8      2714.219310        2016\n",
      "12     2783.868974        2010\n",
      "14     3582.687368        2007\n",
      "20     2231.808142        2011\n",
      "21     2659.431451        2016\n",
      "34     2844.227534        2014\n",
      "38     3761.994038        2019\n"
     ]
    }
   ],
   "source": [
    "asian_cars =df[df[\"origin\"]== \"Asia\"]\n",
    "subset =asian_cars[[\"vehicle_weight\", \"model_year\"]]\n",
    "seven_value= subset.iloc[:7]\n",
    "print(f\"The first seven value:{seven_value}\")"
   ]
  },
  {
   "cell_type": "code",
   "execution_count": 18,
   "id": "fcef1235",
   "metadata": {},
   "outputs": [],
   "source": [
    "X = seven_value.to_numpy(dtype= float)"
   ]
  },
  {
   "cell_type": "code",
   "execution_count": 19,
   "id": "5744a3aa",
   "metadata": {},
   "outputs": [
    {
     "name": "stdout",
     "output_type": "stream",
     "text": [
      "The matrix-matrix multiplication between the transpose of X and X is : [[62248334.33150762 41431216.5073268 ]\n",
      " [41431216.5073268  28373339.        ]]\n"
     ]
    }
   ],
   "source": [
    "XTX = X.T @ X\n",
    "print(f\"The matrix-matrix multiplication between the transpose of X and X is : {XTX}\")"
   ]
  },
  {
   "cell_type": "code",
   "execution_count": 20,
   "id": "4951b18b",
   "metadata": {},
   "outputs": [
    {
     "name": "stdout",
     "output_type": "stream",
     "text": [
      "The inverse is: [[ 5.71497081e-07 -8.34509443e-07]\n",
      " [-8.34509443e-07  1.25380877e-06]]\n"
     ]
    }
   ],
   "source": [
    "import numpy as np\n",
    "XTX_inv = np.linalg.inv(XTX)\n",
    "print(f\"The inverse is: {XTX_inv}\")"
   ]
  },
  {
   "cell_type": "code",
   "execution_count": 21,
   "id": "761362fd",
   "metadata": {},
   "outputs": [
    {
     "name": "stdout",
     "output_type": "stream",
     "text": [
      "y: [1100 1300  800  900 1000 1100 1200]\n",
      "y-shape: (7,)\n"
     ]
    }
   ],
   "source": [
    "y = np.array([1100, 1300, 800, 900, 1000, 1100, 1200])\n",
    "print(f\"y: {y}\")\n",
    "print(f\"y-shape: {y.shape}\")"
   ]
  },
  {
   "cell_type": "code",
   "execution_count": 22,
   "id": "5b7d5807",
   "metadata": {},
   "outputs": [
    {
     "name": "stdout",
     "output_type": "stream",
     "text": [
      "w is: [0.01386421 0.5049067 ]\n"
     ]
    }
   ],
   "source": [
    "w= XTX_inv @ X.T @ y\n",
    "print(f\"w is: {w}\")"
   ]
  },
  {
   "cell_type": "code",
   "execution_count": 23,
   "id": "5121c625",
   "metadata": {},
   "outputs": [
    {
     "name": "stdout",
     "output_type": "stream",
     "text": [
      "The sum of the elements of w is: 0.5187709081074016\n"
     ]
    }
   ],
   "source": [
    "w.sum()\n",
    "print(f\"The sum of the elements of w is: {w.sum()}\")"
   ]
  }
 ],
 "metadata": {
  "kernelspec": {
   "display_name": "Python 3",
   "language": "python",
   "name": "python3"
  },
  "language_info": {
   "codemirror_mode": {
    "name": "ipython",
    "version": 3
   },
   "file_extension": ".py",
   "mimetype": "text/x-python",
   "name": "python",
   "nbconvert_exporter": "python",
   "pygments_lexer": "ipython3",
   "version": "3.13.7"
  }
 },
 "nbformat": 4,
 "nbformat_minor": 5
}
