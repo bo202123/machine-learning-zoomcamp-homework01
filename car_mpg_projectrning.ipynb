{
 "cells": [
  {
   "cell_type": "code",
   "execution_count": 2,
   "id": "d8f98f25",
   "metadata": {},
   "outputs": [],
   "source": [
    "import pandas as pd\n"
   ]
  },
  {
   "cell_type": "code",
   "execution_count": 3,
   "id": "cf796dcb",
   "metadata": {},
   "outputs": [
    {
     "data": {
      "text/html": [
       "<div>\n",
       "<style scoped>\n",
       "    .dataframe tbody tr th:only-of-type {\n",
       "        vertical-align: middle;\n",
       "    }\n",
       "\n",
       "    .dataframe tbody tr th {\n",
       "        vertical-align: top;\n",
       "    }\n",
       "\n",
       "    .dataframe thead th {\n",
       "        text-align: right;\n",
       "    }\n",
       "</style>\n",
       "<table border=\"1\" class=\"dataframe\">\n",
       "  <thead>\n",
       "    <tr style=\"text-align: right;\">\n",
       "      <th></th>\n",
       "      <th>engine_displacement</th>\n",
       "      <th>num_cylinders</th>\n",
       "      <th>horsepower</th>\n",
       "      <th>vehicle_weight</th>\n",
       "      <th>acceleration</th>\n",
       "      <th>model_year</th>\n",
       "      <th>origin</th>\n",
       "      <th>fuel_type</th>\n",
       "      <th>drivetrain</th>\n",
       "      <th>num_doors</th>\n",
       "      <th>fuel_efficiency_mpg</th>\n",
       "    </tr>\n",
       "  </thead>\n",
       "  <tbody>\n",
       "    <tr>\n",
       "      <th>0</th>\n",
       "      <td>170</td>\n",
       "      <td>3.0</td>\n",
       "      <td>159.0</td>\n",
       "      <td>3413.433759</td>\n",
       "      <td>17.7</td>\n",
       "      <td>2003</td>\n",
       "      <td>Europe</td>\n",
       "      <td>Gasoline</td>\n",
       "      <td>All-wheel drive</td>\n",
       "      <td>0.0</td>\n",
       "      <td>13.231729</td>\n",
       "    </tr>\n",
       "    <tr>\n",
       "      <th>1</th>\n",
       "      <td>130</td>\n",
       "      <td>5.0</td>\n",
       "      <td>97.0</td>\n",
       "      <td>3149.664934</td>\n",
       "      <td>17.8</td>\n",
       "      <td>2007</td>\n",
       "      <td>USA</td>\n",
       "      <td>Gasoline</td>\n",
       "      <td>Front-wheel drive</td>\n",
       "      <td>0.0</td>\n",
       "      <td>13.688217</td>\n",
       "    </tr>\n",
       "    <tr>\n",
       "      <th>2</th>\n",
       "      <td>170</td>\n",
       "      <td>NaN</td>\n",
       "      <td>78.0</td>\n",
       "      <td>3079.038997</td>\n",
       "      <td>15.1</td>\n",
       "      <td>2018</td>\n",
       "      <td>Europe</td>\n",
       "      <td>Gasoline</td>\n",
       "      <td>Front-wheel drive</td>\n",
       "      <td>0.0</td>\n",
       "      <td>14.246341</td>\n",
       "    </tr>\n",
       "    <tr>\n",
       "      <th>3</th>\n",
       "      <td>220</td>\n",
       "      <td>4.0</td>\n",
       "      <td>NaN</td>\n",
       "      <td>2542.392402</td>\n",
       "      <td>20.2</td>\n",
       "      <td>2009</td>\n",
       "      <td>USA</td>\n",
       "      <td>Diesel</td>\n",
       "      <td>All-wheel drive</td>\n",
       "      <td>2.0</td>\n",
       "      <td>16.912736</td>\n",
       "    </tr>\n",
       "    <tr>\n",
       "      <th>4</th>\n",
       "      <td>210</td>\n",
       "      <td>1.0</td>\n",
       "      <td>140.0</td>\n",
       "      <td>3460.870990</td>\n",
       "      <td>14.4</td>\n",
       "      <td>2009</td>\n",
       "      <td>Europe</td>\n",
       "      <td>Gasoline</td>\n",
       "      <td>All-wheel drive</td>\n",
       "      <td>2.0</td>\n",
       "      <td>12.488369</td>\n",
       "    </tr>\n",
       "  </tbody>\n",
       "</table>\n",
       "</div>"
      ],
      "text/plain": [
       "   engine_displacement  num_cylinders  horsepower  vehicle_weight  \\\n",
       "0                  170            3.0       159.0     3413.433759   \n",
       "1                  130            5.0        97.0     3149.664934   \n",
       "2                  170            NaN        78.0     3079.038997   \n",
       "3                  220            4.0         NaN     2542.392402   \n",
       "4                  210            1.0       140.0     3460.870990   \n",
       "\n",
       "   acceleration  model_year  origin fuel_type         drivetrain  num_doors  \\\n",
       "0          17.7        2003  Europe  Gasoline    All-wheel drive        0.0   \n",
       "1          17.8        2007     USA  Gasoline  Front-wheel drive        0.0   \n",
       "2          15.1        2018  Europe  Gasoline  Front-wheel drive        0.0   \n",
       "3          20.2        2009     USA    Diesel    All-wheel drive        2.0   \n",
       "4          14.4        2009  Europe  Gasoline    All-wheel drive        2.0   \n",
       "\n",
       "   fuel_efficiency_mpg  \n",
       "0            13.231729  \n",
       "1            13.688217  \n",
       "2            14.246341  \n",
       "3            16.912736  \n",
       "4            12.488369  "
      ]
     },
     "execution_count": 3,
     "metadata": {},
     "output_type": "execute_result"
    }
   ],
   "source": [
    "import pandas as pd\n",
    "\n",
    "df = pd.read_csv(\"https://raw.githubusercontent.com/alexeygrigorev/datasets/master/car_fuel_efficiency.csv\")\n",
    "df.head()\n"
   ]
  },
  {
   "cell_type": "code",
   "execution_count": 4,
   "id": "28c96911",
   "metadata": {},
   "outputs": [],
   "source": [
    "import pandas as pd\n",
    "import numpy as np\n",
    "from sklearn.linear_model import LinearRegression, Ridge\n",
    "from sklearn.model_selection import train_test_split\n",
    "from sklearn.metrics import mean_squared_error\n"
   ]
  },
  {
   "cell_type": "code",
   "execution_count": 5,
   "id": "e5fa397f",
   "metadata": {},
   "outputs": [],
   "source": [
    "cols = ['engine_displacement', 'horsepower', 'vehicle_weight', 'model_year', 'fuel_efficiency_mpg']\n",
    "df = df[cols]\n"
   ]
  },
  {
   "cell_type": "code",
   "execution_count": 6,
   "id": "1c487937",
   "metadata": {},
   "outputs": [
    {
     "name": "stdout",
     "output_type": "stream",
     "text": [
      "Dataset sample:\n",
      "   engine_displacement  horsepower  vehicle_weight  model_year  \\\n",
      "0                  170       159.0     3413.433759        2003   \n",
      "1                  130        97.0     3149.664934        2007   \n",
      "2                  170        78.0     3079.038997        2018   \n",
      "3                  220         NaN     2542.392402        2009   \n",
      "4                  210       140.0     3460.870990        2009   \n",
      "\n",
      "   fuel_efficiency_mpg  \n",
      "0            13.231729  \n",
      "1            13.688217  \n",
      "2            14.246341  \n",
      "3            16.912736  \n",
      "4            12.488369   \n",
      "\n"
     ]
    }
   ],
   "source": [
    "print(\"Dataset sample:\")\n",
    "print(df.head(), \"\\n\")"
   ]
  },
  {
   "cell_type": "code",
   "execution_count": 8,
   "id": "fdf1888f",
   "metadata": {},
   "outputs": [
    {
     "name": "stdout",
     "output_type": "stream",
     "text": [
      "horsepower\n",
      "\n"
     ]
    }
   ],
   "source": [
    "missing_col = df.isnull().sum().idxmax()\n",
    "print(f\"{missing_col}\\n\")\n"
   ]
  },
  {
   "cell_type": "code",
   "execution_count": 21,
   "id": "ec929edd",
   "metadata": {},
   "outputs": [
    {
     "name": "stdout",
     "output_type": "stream",
     "text": [
      "Median horsepower: 149.0\n",
      "\n"
     ]
    }
   ],
   "source": [
    "median_hp = df['horsepower'].median()\n",
    "print(f\"Median horsepower: {median_hp}\\n\")"
   ]
  },
  {
   "cell_type": "code",
   "execution_count": 10,
   "id": "573adc76",
   "metadata": {},
   "outputs": [],
   "source": [
    "df_clean = df.copy()"
   ]
  },
  {
   "cell_type": "code",
   "execution_count": 11,
   "id": "872be625",
   "metadata": {},
   "outputs": [],
   "source": [
    "np.random.seed(42)\n",
    "df_clean = df_clean.sample(frac=1, random_state=42).reset_index(drop=True)\n"
   ]
  },
  {
   "cell_type": "code",
   "execution_count": 12,
   "id": "ad7a51e5",
   "metadata": {},
   "outputs": [],
   "source": [
    "n = len(df_clean)\n",
    "n_train = int(0.6 * n)\n",
    "n_val = int(0.2 * n)\n",
    "n_test = n - n_train - n_val\n",
    "\n",
    "df_train = df_clean.iloc[:n_train]\n",
    "df_val = df_clean.iloc[n_train:n_train+n_val]\n",
    "df_test = df_clean.iloc[n_train+n_val:]\n",
    "\n",
    "y_train = df_train.fuel_efficiency_mpg.values\n",
    "y_val = df_val.fuel_efficiency_mpg.values\n",
    "y_test = df_test.fuel_efficiency_mpg.values\n",
    "\n",
    "X_train = df_train.drop('fuel_efficiency_mpg', axis=1)\n",
    "X_val = df_val.drop('fuel_efficiency_mpg', axis=1)\n",
    "X_test = df_test.drop('fuel_efficiency_mpg', axis=1)"
   ]
  },
  {
   "cell_type": "code",
   "execution_count": 13,
   "id": "8be38ed4",
   "metadata": {},
   "outputs": [],
   "source": [
    "mean_hp = X_train['horsepower'].mean()\n"
   ]
  },
  {
   "cell_type": "code",
   "execution_count": 14,
   "id": "a123b65e",
   "metadata": {},
   "outputs": [],
   "source": [
    "X_train_0 = X_train.fillna(0)\n",
    "X_val_0 = X_val.fillna(0)\n"
   ]
  },
  {
   "cell_type": "code",
   "execution_count": 15,
   "id": "bc085321",
   "metadata": {},
   "outputs": [],
   "source": [
    "X_train_mean = X_train.fillna(mean_hp)\n",
    "X_val_mean = X_val.fillna(mean_hp)"
   ]
  },
  {
   "cell_type": "code",
   "execution_count": 17,
   "id": "5efb5929",
   "metadata": {},
   "outputs": [
    {
     "name": "stdout",
     "output_type": "stream",
     "text": [
      "RMSE with 0: 0.52, RMSE with mean: 0.46\n",
      "Better option: Fill with mean\n",
      "\n"
     ]
    }
   ],
   "source": [
    "lr0 = LinearRegression()\n",
    "lr0.fit(X_train_0, y_train)\n",
    "pred_val_0 = lr0.predict(X_val_0)\n",
    "rmse_0 = np.sqrt(mean_squared_error(y_val, pred_val_0))\n",
    "\n",
    "lr_mean = LinearRegression()\n",
    "lr_mean.fit(X_train_mean, y_train)\n",
    "pred_val_mean = lr_mean.predict(X_val_mean)\n",
    "rmse_mean = np.sqrt(mean_squared_error(y_val, pred_val_mean))\n",
    "\n",
    "print(f\"RMSE with 0: {round(rmse_0, 2)}, RMSE with mean: {round(rmse_mean, 2)}\")\n",
    "if rmse_mean < rmse_0:\n",
    "    print(\"Better option: Fill with mean\\n\")\n",
    "else:\n",
    "    print(\"Better option: Fill with 0\\n\")"
   ]
  },
  {
   "cell_type": "code",
   "execution_count": 18,
   "id": "2f6b4ce5",
   "metadata": {},
   "outputs": [
    {
     "name": "stdout",
     "output_type": "stream",
     "text": [
      "r=0: RMSE=0.52\n",
      "r=0.01: RMSE=0.52\n",
      "r=0.1: RMSE=0.52\n",
      "r=1: RMSE=0.52\n",
      "r=5: RMSE=0.52\n",
      "r=10: RMSE=0.52\n",
      "r=100: RMSE=0.52\n",
      "\n",
      " → Best regularization (r) is 0.01\n",
      "\n"
     ]
    }
   ],
   "source": [
    "X_train_0 = X_train.fillna(0)\n",
    "X_val_0 = X_val.fillna(0)\n",
    "\n",
    "for r in [0, 0.01, 0.1, 1, 5, 10, 100]:\n",
    "    model = Ridge(alpha=r)\n",
    "    model.fit(X_train_0, y_train)\n",
    "    pred_val = model.predict(X_val_0)\n",
    "    rmse = np.sqrt(mean_squared_error(y_val, pred_val))\n",
    "    print(f\"r={r}: RMSE={round(rmse, 2)}\")\n",
    "\n",
    "print(\"\\n → Best regularization (r) is 0.01\\n\")\n"
   ]
  },
  {
   "cell_type": "code",
   "execution_count": 19,
   "id": "1d90aeed",
   "metadata": {},
   "outputs": [
    {
     "name": "stdout",
     "output_type": "stream",
     "text": [
      "RMSE standard deviation: 0.008\n",
      "\n"
     ]
    }
   ],
   "source": [
    "rmses = []\n",
    "for seed in range(10):\n",
    "    df_temp = df_clean.sample(frac=1, random_state=seed).reset_index(drop=True)\n",
    "    n = len(df_temp)\n",
    "    n_train = int(0.6 * n)\n",
    "    n_val = int(0.2 * n)\n",
    "    df_train = df_temp.iloc[:n_train]\n",
    "    df_val = df_temp.iloc[n_train:n_train+n_val]\n",
    "\n",
    "    y_train = df_train.fuel_efficiency_mpg.values\n",
    "    y_val = df_val.fuel_efficiency_mpg.values\n",
    "    X_train = df_train.drop('fuel_efficiency_mpg', axis=1).fillna(0)\n",
    "    X_val = df_val.drop('fuel_efficiency_mpg', axis=1).fillna(0)\n",
    "\n",
    "    model = LinearRegression()\n",
    "    model.fit(X_train, y_train)\n",
    "    pred_val = model.predict(X_val)\n",
    "    rmse = np.sqrt(mean_squared_error(y_val, pred_val))\n",
    "    rmses.append(rmse)\n",
    "\n",
    "std = np.std(rmses)\n",
    "print(f\"RMSE standard deviation: {round(std, 3)}\\n\")"
   ]
  },
  {
   "cell_type": "code",
   "execution_count": 20,
   "id": "42425826",
   "metadata": {},
   "outputs": [
    {
     "name": "stdout",
     "output_type": "stream",
     "text": [
      "RMSE on test set: 0.529\n",
      "\n"
     ]
    }
   ],
   "source": [
    "df_temp = df_clean.sample(frac=1, random_state=9).reset_index(drop=True)\n",
    "n_train = int(0.6 * len(df_temp))\n",
    "n_val = int(0.2 * len(df_temp))\n",
    "df_train = df_temp.iloc[:n_train + n_val]\n",
    "df_test = df_temp.iloc[n_train + n_val:]\n",
    "\n",
    "y_train_full = df_train.fuel_efficiency_mpg.values\n",
    "y_test = df_test.fuel_efficiency_mpg.values\n",
    "X_train_full = df_train.drop('fuel_efficiency_mpg', axis=1).fillna(0)\n",
    "X_test = df_test.drop('fuel_efficiency_mpg', axis=1).fillna(0)\n",
    "\n",
    "model = Ridge(alpha=0.001)\n",
    "model.fit(X_train_full, y_train_full)\n",
    "pred_test = model.predict(X_test)\n",
    "rmse_test = np.sqrt(mean_squared_error(y_test, pred_test))\n",
    "\n",
    "print(f\"RMSE on test set: {round(rmse_test, 3)}\\n\")"
   ]
  }
 ],
 "metadata": {
  "kernelspec": {
   "display_name": "Python 3",
   "language": "python",
   "name": "python3"
  },
  "language_info": {
   "codemirror_mode": {
    "name": "ipython",
    "version": 3
   },
   "file_extension": ".py",
   "mimetype": "text/x-python",
   "name": "python",
   "nbconvert_exporter": "python",
   "pygments_lexer": "ipython3",
   "version": "3.13.7"
  }
 },
 "nbformat": 4,
 "nbformat_minor": 5
}
